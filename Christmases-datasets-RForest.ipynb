{
 "cells": [
  {
   "cell_type": "code",
   "execution_count": 1,
   "id": "33fc54f6-271c-4d3d-b15e-cff1417848c5",
   "metadata": {},
   "outputs": [],
   "source": [
    "# insert photo or image here, TOC"
   ]
  },
  {
   "cell_type": "markdown",
   "id": "acf3dd7a-78f4-4eff-8293-e7cc8a619454",
   "metadata": {},
   "source": [
    "### Single Christmas Random Forest and Multiple Christmas Random Forest "
   ]
  },
  {
   "cell_type": "code",
   "execution_count": 1,
   "id": "a3af3910-4986-47c8-902d-db31e13675d0",
   "metadata": {},
   "outputs": [],
   "source": [
    "import pandas as pd\n",
    "from sklearn.linear_model import LinearRegression\n",
    "from sklearn.model_selection import train_test_split\n",
    "import matplotlib.pyplot as plt\n",
    "%matplotlib inline\n",
    "from sklearn import metrics\n",
    "import numpy as np"
   ]
  },
  {
   "cell_type": "code",
   "execution_count": 2,
   "id": "fa482ba5-83ab-4107-b2e1-541ff980d4f2",
   "metadata": {},
   "outputs": [],
   "source": [
    "XmasSoo = pd.read_csv(r\"DATA\\SooChristmas.csv\")"
   ]
  },
  {
   "cell_type": "code",
   "execution_count": 3,
   "id": "bedb0c65-b7c8-42b9-bf5c-248df8f2271f",
   "metadata": {},
   "outputs": [],
   "source": [
    "#It's possible by using this dataset with multiples of one day that I could introduce bias into a model... \n",
    "\n",
    "XmasAll = pd.read_csv(r\"DATA\\UPNorthChristmas.csv\")"
   ]
  },
  {
   "cell_type": "code",
   "execution_count": 13,
   "id": "f5b52cf9-be48-4373-95f9-52bd43ba9b68",
   "metadata": {},
   "outputs": [
    {
     "data": {
      "text/html": [
       "<div>\n",
       "<style scoped>\n",
       "    .dataframe tbody tr th:only-of-type {\n",
       "        vertical-align: middle;\n",
       "    }\n",
       "\n",
       "    .dataframe tbody tr th {\n",
       "        vertical-align: top;\n",
       "    }\n",
       "\n",
       "    .dataframe thead th {\n",
       "        text-align: right;\n",
       "    }\n",
       "</style>\n",
       "<table border=\"1\" class=\"dataframe\">\n",
       "  <thead>\n",
       "    <tr style=\"text-align: right;\">\n",
       "      <th></th>\n",
       "      <th>Unnamed: 0</th>\n",
       "      <th>Date</th>\n",
       "      <th>MaxTemp</th>\n",
       "      <th>MinTemp</th>\n",
       "      <th>Precip</th>\n",
       "      <th>Snowfall</th>\n",
       "      <th>SnowDepth</th>\n",
       "    </tr>\n",
       "  </thead>\n",
       "  <tbody>\n",
       "    <tr>\n",
       "      <th>0</th>\n",
       "      <td>1454</td>\n",
       "      <td>12/25/1945</td>\n",
       "      <td>25.0</td>\n",
       "      <td>18.0</td>\n",
       "      <td>0.12</td>\n",
       "      <td>1.7</td>\n",
       "      <td>8.0</td>\n",
       "    </tr>\n",
       "    <tr>\n",
       "      <th>1</th>\n",
       "      <td>1805</td>\n",
       "      <td>12/25/1946</td>\n",
       "      <td>20.0</td>\n",
       "      <td>13.0</td>\n",
       "      <td>0.22</td>\n",
       "      <td>4.5</td>\n",
       "      <td>9.0</td>\n",
       "    </tr>\n",
       "    <tr>\n",
       "      <th>2</th>\n",
       "      <td>3084</td>\n",
       "      <td>12/25/1950</td>\n",
       "      <td>11.0</td>\n",
       "      <td>-7.0</td>\n",
       "      <td>0.00</td>\n",
       "      <td>0.4</td>\n",
       "      <td>14.0</td>\n",
       "    </tr>\n",
       "    <tr>\n",
       "      <th>3</th>\n",
       "      <td>3449</td>\n",
       "      <td>12/25/1951</td>\n",
       "      <td>17.0</td>\n",
       "      <td>-16.0</td>\n",
       "      <td>0.00</td>\n",
       "      <td>0.0</td>\n",
       "      <td>11.0</td>\n",
       "    </tr>\n",
       "    <tr>\n",
       "      <th>4</th>\n",
       "      <td>3815</td>\n",
       "      <td>12/25/1952</td>\n",
       "      <td>37.0</td>\n",
       "      <td>30.0</td>\n",
       "      <td>0.05</td>\n",
       "      <td>0.8</td>\n",
       "      <td>1.0</td>\n",
       "    </tr>\n",
       "  </tbody>\n",
       "</table>\n",
       "</div>"
      ],
      "text/plain": [
       "   Unnamed: 0        Date  MaxTemp  MinTemp  Precip  Snowfall  SnowDepth\n",
       "0        1454  12/25/1945     25.0     18.0    0.12       1.7        8.0\n",
       "1        1805  12/25/1946     20.0     13.0    0.22       4.5        9.0\n",
       "2        3084  12/25/1950     11.0     -7.0    0.00       0.4       14.0\n",
       "3        3449  12/25/1951     17.0    -16.0    0.00       0.0       11.0\n",
       "4        3815  12/25/1952     37.0     30.0    0.05       0.8        1.0"
      ]
     },
     "execution_count": 13,
     "metadata": {},
     "output_type": "execute_result"
    }
   ],
   "source": [
    "XmasAll.head()"
   ]
  },
  {
   "cell_type": "markdown",
   "id": "b9406823-fc38-4e0b-bec9-7d9fd0fe92de",
   "metadata": {},
   "source": [
    "#### Single Soo Christmas only dataset first"
   ]
  },
  {
   "cell_type": "code",
   "execution_count": 4,
   "id": "75c46db1-faba-45c2-8983-9e510889dbe9",
   "metadata": {},
   "outputs": [
    {
     "data": {
      "text/plain": [
       "(74, 8)"
      ]
     },
     "execution_count": 4,
     "metadata": {},
     "output_type": "execute_result"
    }
   ],
   "source": [
    "XmasSoo.shape"
   ]
  },
  {
   "cell_type": "code",
   "execution_count": 5,
   "id": "98e74491-4e72-4b45-b4d0-fae6f5933ce3",
   "metadata": {},
   "outputs": [
    {
     "data": {
      "text/html": [
       "<div>\n",
       "<style scoped>\n",
       "    .dataframe tbody tr th:only-of-type {\n",
       "        vertical-align: middle;\n",
       "    }\n",
       "\n",
       "    .dataframe tbody tr th {\n",
       "        vertical-align: top;\n",
       "    }\n",
       "\n",
       "    .dataframe thead th {\n",
       "        text-align: right;\n",
       "    }\n",
       "</style>\n",
       "<table border=\"1\" class=\"dataframe\">\n",
       "  <thead>\n",
       "    <tr style=\"text-align: right;\">\n",
       "      <th></th>\n",
       "      <th>Unnamed: 0</th>\n",
       "      <th>Date</th>\n",
       "      <th>AvgTemp</th>\n",
       "      <th>MaxTemp</th>\n",
       "      <th>MinTemp</th>\n",
       "      <th>Precip</th>\n",
       "      <th>Snowfall</th>\n",
       "      <th>SnowDepth</th>\n",
       "    </tr>\n",
       "  </thead>\n",
       "  <tbody>\n",
       "    <tr>\n",
       "      <th>0</th>\n",
       "      <td>359</td>\n",
       "      <td>12/25/1948</td>\n",
       "      <td>NaN</td>\n",
       "      <td>3.0</td>\n",
       "      <td>-10.0</td>\n",
       "      <td>0.00</td>\n",
       "      <td>0.0</td>\n",
       "      <td>10.0</td>\n",
       "    </tr>\n",
       "    <tr>\n",
       "      <th>1</th>\n",
       "      <td>724</td>\n",
       "      <td>12/25/1949</td>\n",
       "      <td>NaN</td>\n",
       "      <td>37.0</td>\n",
       "      <td>12.0</td>\n",
       "      <td>0.00</td>\n",
       "      <td>0.0</td>\n",
       "      <td>3.0</td>\n",
       "    </tr>\n",
       "    <tr>\n",
       "      <th>2</th>\n",
       "      <td>1089</td>\n",
       "      <td>12/25/1950</td>\n",
       "      <td>NaN</td>\n",
       "      <td>4.0</td>\n",
       "      <td>-8.0</td>\n",
       "      <td>0.00</td>\n",
       "      <td>0.0</td>\n",
       "      <td>21.0</td>\n",
       "    </tr>\n",
       "    <tr>\n",
       "      <th>3</th>\n",
       "      <td>1454</td>\n",
       "      <td>12/25/1951</td>\n",
       "      <td>NaN</td>\n",
       "      <td>20.0</td>\n",
       "      <td>-10.0</td>\n",
       "      <td>0.00</td>\n",
       "      <td>0.0</td>\n",
       "      <td>12.0</td>\n",
       "    </tr>\n",
       "    <tr>\n",
       "      <th>4</th>\n",
       "      <td>1820</td>\n",
       "      <td>12/25/1952</td>\n",
       "      <td>NaN</td>\n",
       "      <td>33.0</td>\n",
       "      <td>29.0</td>\n",
       "      <td>0.06</td>\n",
       "      <td>0.6</td>\n",
       "      <td>0.0</td>\n",
       "    </tr>\n",
       "  </tbody>\n",
       "</table>\n",
       "</div>"
      ],
      "text/plain": [
       "   Unnamed: 0        Date  AvgTemp  MaxTemp  MinTemp  Precip  Snowfall  \\\n",
       "0         359  12/25/1948      NaN      3.0    -10.0    0.00       0.0   \n",
       "1         724  12/25/1949      NaN     37.0     12.0    0.00       0.0   \n",
       "2        1089  12/25/1950      NaN      4.0     -8.0    0.00       0.0   \n",
       "3        1454  12/25/1951      NaN     20.0    -10.0    0.00       0.0   \n",
       "4        1820  12/25/1952      NaN     33.0     29.0    0.06       0.6   \n",
       "\n",
       "   SnowDepth  \n",
       "0       10.0  \n",
       "1        3.0  \n",
       "2       21.0  \n",
       "3       12.0  \n",
       "4        0.0  "
      ]
     },
     "execution_count": 5,
     "metadata": {},
     "output_type": "execute_result"
    }
   ],
   "source": [
    "XmasSoo.head()"
   ]
  },
  {
   "cell_type": "code",
   "execution_count": 6,
   "id": "aee4383f-a879-4a81-8e9f-174cc56d3cb3",
   "metadata": {},
   "outputs": [
    {
     "name": "stdout",
     "output_type": "stream",
     "text": [
      "23\n"
     ]
    }
   ],
   "source": [
    "# use the value_counts() method to get a count of the values in the 'Snowfall' column\n",
    "counts = XmasSoo['Snowfall'].value_counts()\n",
    "\n",
    "# print the count for 0.0\n",
    "print(counts[0.0])\n"
   ]
  },
  {
   "cell_type": "code",
   "execution_count": 12,
   "id": "6fae0f5b-5c74-4d45-9b1e-f808ddd84d82",
   "metadata": {},
   "outputs": [
    {
     "data": {
      "text/plain": [
       "31.08108108108108"
      ]
     },
     "execution_count": 12,
     "metadata": {},
     "output_type": "execute_result"
    }
   ],
   "source": [
    "# percentage of no snowfall on Christmas Day \n",
    "\n",
    "(23/74) * 100\n"
   ]
  },
  {
   "cell_type": "code",
   "execution_count": 13,
   "id": "586be77a-d1f5-4e5c-95c6-72b02cbaed52",
   "metadata": {},
   "outputs": [
    {
     "data": {
      "text/plain": [
       "69"
      ]
     },
     "execution_count": 13,
     "metadata": {},
     "output_type": "execute_result"
    }
   ],
   "source": [
    "# percentage of years there is new snowfall on Christmas Day \n",
    "\n",
    "100-31"
   ]
  },
  {
   "cell_type": "code",
   "execution_count": 15,
   "id": "d04524e2-74e0-430c-8a5f-caf38f7208db",
   "metadata": {},
   "outputs": [
    {
     "data": {
      "text/plain": [
       "26.0    7\n",
       "35.0    5\n",
       "36.0    4\n",
       "25.0    4\n",
       "24.0    4\n",
       "21.0    4\n",
       "27.0    4\n",
       "16.0    3\n",
       "28.0    3\n",
       "20.0    3\n",
       "30.0    3\n",
       "32.0    3\n",
       "37.0    3\n",
       "9.0     2\n",
       "23.0    2\n",
       "29.0    2\n",
       "13.0    2\n",
       "34.0    2\n",
       "18.0    2\n",
       "33.0    2\n",
       "22.0    1\n",
       "8.0     1\n",
       "43.0    1\n",
       "3.0     1\n",
       "2.0     1\n",
       "12.0    1\n",
       "47.0    1\n",
       "4.0     1\n",
       "39.0    1\n",
       "Name: MaxTemp, dtype: int64"
      ]
     },
     "execution_count": 15,
     "metadata": {},
     "output_type": "execute_result"
    }
   ],
   "source": [
    "XmasSoo.MaxTemp.value_counts()"
   ]
  },
  {
   "cell_type": "code",
   "execution_count": 19,
   "id": "eead69eb-93c7-4914-b3b0-40dd0f39e9ab",
   "metadata": {},
   "outputs": [
    {
     "data": {
      "text/plain": [
       "Unnamed: 0    24\n",
       "Date          24\n",
       "AvgTemp        3\n",
       "MaxTemp       23\n",
       "MinTemp       23\n",
       "Precip        24\n",
       "Snowfall      24\n",
       "SnowDepth     24\n",
       "dtype: int64"
      ]
     },
     "execution_count": 19,
     "metadata": {},
     "output_type": "execute_result"
    }
   ],
   "source": [
    "XmasSoo.query(\"SnowDepth >= 12\").count()"
   ]
  },
  {
   "cell_type": "markdown",
   "id": "a5d2f9d4-1161-48d6-86a0-936e01b84318",
   "metadata": {},
   "source": [
    "#### There were 12 years of the 74 which had a depth of 12 inches or more by Christmas Day. "
   ]
  },
  {
   "cell_type": "code",
   "execution_count": null,
   "id": "6a2acf84-6026-43d6-83b8-92b8f51d6cb7",
   "metadata": {},
   "outputs": [],
   "source": []
  }
 ],
 "metadata": {
  "kernelspec": {
   "display_name": "Python 3 (ipykernel)",
   "language": "python",
   "name": "python3"
  },
  "language_info": {
   "codemirror_mode": {
    "name": "ipython",
    "version": 3
   },
   "file_extension": ".py",
   "mimetype": "text/x-python",
   "name": "python",
   "nbconvert_exporter": "python",
   "pygments_lexer": "ipython3",
   "version": "3.10.4"
  }
 },
 "nbformat": 4,
 "nbformat_minor": 5
}
