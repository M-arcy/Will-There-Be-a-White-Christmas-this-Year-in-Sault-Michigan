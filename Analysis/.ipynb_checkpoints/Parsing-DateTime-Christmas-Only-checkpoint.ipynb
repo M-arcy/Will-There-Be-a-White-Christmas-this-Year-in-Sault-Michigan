{
 "cells": [
  {
   "cell_type": "markdown",
   "id": "863743ae-4ba5-459f-97b2-ff102df2b2ca",
   "metadata": {},
   "source": [
    "What follows is recorded weather data for Sault Ste. Marie, Michigan for January 1, 1942 through November 28, 2022. \n",
    "Original data can be found [here](https://www.ncei.noaa.gov/access/past-weather/49783) . \n",
    "\n",
    "We'll be isolating just December 25 in this notebook and saving that to a CSV file for use in a supervised machine learning notebook. "
   ]
  },
  {
   "cell_type": "code",
   "execution_count": 19,
   "id": "39c57508-7d90-4c49-af17-483319e99d9f",
   "metadata": {},
   "outputs": [],
   "source": [
    "# Import the necessary modules\n",
    "import pandas as pd\n",
    "from datetime import datetime\n",
    "import seaborn as sns\n"
   ]
  },
  {
   "cell_type": "code",
   "execution_count": 20,
   "id": "0ce31e03-b780-4fac-aafd-30c92ad2a9f9",
   "metadata": {},
   "outputs": [],
   "source": [
    "#import all weather station files \n",
    "\n",
    " # Create list of CSV file names for each weather station located in Chippewa County, Michigan. Weather stations just across the river in Ontario, Canada are not included in this dataset.\n",
    "allsnow = ['..\\DATA\\Dunbar.csv', '..\\DATA\\Kincheloe AFB.csv', '..\\DATA\\Kinross.csv', '..\\DATA\\Rudyard.csv','..\\DATA\\SSM 7-1SSW.csv','..\\DATA\\SSM.csv','..\\DATA\\SSM2-1E.csv','..\\DATA\\SSM7-8SE.csv', '..\\DATA\\Sault-Weather.csv']"
   ]
  },
  {
   "cell_type": "code",
   "execution_count": 21,
   "id": "ada004c8-4835-46c7-8d57-a11f82185b66",
   "metadata": {},
   "outputs": [
    {
     "data": {
      "text/html": [
       "<div>\n",
       "<style scoped>\n",
       "    .dataframe tbody tr th:only-of-type {\n",
       "        vertical-align: middle;\n",
       "    }\n",
       "\n",
       "    .dataframe tbody tr th {\n",
       "        vertical-align: top;\n",
       "    }\n",
       "\n",
       "    .dataframe thead th {\n",
       "        text-align: right;\n",
       "    }\n",
       "</style>\n",
       "<table border=\"1\" class=\"dataframe\">\n",
       "  <thead>\n",
       "    <tr style=\"text-align: right;\">\n",
       "      <th></th>\n",
       "      <th>Date</th>\n",
       "      <th>AvgTemp</th>\n",
       "      <th>MaxTemp</th>\n",
       "      <th>MinTemp</th>\n",
       "      <th>Precip</th>\n",
       "      <th>Snowfall</th>\n",
       "      <th>SnowDepth</th>\n",
       "      <th>Unnamed: 7</th>\n",
       "    </tr>\n",
       "  </thead>\n",
       "  <tbody>\n",
       "    <tr>\n",
       "      <th>0</th>\n",
       "      <td>1/1/1942</td>\n",
       "      <td>NaN</td>\n",
       "      <td>27.0</td>\n",
       "      <td>6.0</td>\n",
       "      <td>0.06</td>\n",
       "      <td>1.0</td>\n",
       "      <td>5.0</td>\n",
       "      <td>NaN</td>\n",
       "    </tr>\n",
       "    <tr>\n",
       "      <th>1</th>\n",
       "      <td>1/2/1942</td>\n",
       "      <td>NaN</td>\n",
       "      <td>20.0</td>\n",
       "      <td>3.0</td>\n",
       "      <td>0.66</td>\n",
       "      <td>8.0</td>\n",
       "      <td>13.0</td>\n",
       "      <td>NaN</td>\n",
       "    </tr>\n",
       "    <tr>\n",
       "      <th>2</th>\n",
       "      <td>1/3/1942</td>\n",
       "      <td>NaN</td>\n",
       "      <td>9.0</td>\n",
       "      <td>-6.0</td>\n",
       "      <td>0.01</td>\n",
       "      <td>0.5</td>\n",
       "      <td>NaN</td>\n",
       "      <td>NaN</td>\n",
       "    </tr>\n",
       "    <tr>\n",
       "      <th>3</th>\n",
       "      <td>1/4/1942</td>\n",
       "      <td>NaN</td>\n",
       "      <td>17.0</td>\n",
       "      <td>-9.0</td>\n",
       "      <td>0.00</td>\n",
       "      <td>0.1</td>\n",
       "      <td>NaN</td>\n",
       "      <td>NaN</td>\n",
       "    </tr>\n",
       "    <tr>\n",
       "      <th>4</th>\n",
       "      <td>1/5/1942</td>\n",
       "      <td>NaN</td>\n",
       "      <td>10.0</td>\n",
       "      <td>-16.0</td>\n",
       "      <td>0.00</td>\n",
       "      <td>0.0</td>\n",
       "      <td>NaN</td>\n",
       "      <td>NaN</td>\n",
       "    </tr>\n",
       "  </tbody>\n",
       "</table>\n",
       "</div>"
      ],
      "text/plain": [
       "       Date  AvgTemp  MaxTemp  MinTemp  Precip  Snowfall  SnowDepth  \\\n",
       "0  1/1/1942      NaN     27.0      6.0    0.06       1.0        5.0   \n",
       "1  1/2/1942      NaN     20.0      3.0    0.66       8.0       13.0   \n",
       "2  1/3/1942      NaN      9.0     -6.0    0.01       0.5        NaN   \n",
       "3  1/4/1942      NaN     17.0     -9.0    0.00       0.1        NaN   \n",
       "4  1/5/1942      NaN     10.0    -16.0    0.00       0.0        NaN   \n",
       "\n",
       "   Unnamed: 7  \n",
       "0         NaN  \n",
       "1         NaN  \n",
       "2         NaN  \n",
       "3         NaN  \n",
       "4         NaN  "
      ]
     },
     "execution_count": 21,
     "metadata": {},
     "output_type": "execute_result"
    }
   ],
   "source": [
    "allsnow = pd.concat((pd.read_csv(i) for i in allsnow)).reset_index(drop = True) # Import the weather station files, stack them together and reset the index for the new row order. \n",
    "allsnow.head()"
   ]
  },
  {
   "cell_type": "code",
   "execution_count": 22,
   "id": "2e9379d3-0ffb-4ead-97c2-f7cacba8cd20",
   "metadata": {},
   "outputs": [
    {
     "data": {
      "text/html": [
       "<div>\n",
       "<style scoped>\n",
       "    .dataframe tbody tr th:only-of-type {\n",
       "        vertical-align: middle;\n",
       "    }\n",
       "\n",
       "    .dataframe tbody tr th {\n",
       "        vertical-align: top;\n",
       "    }\n",
       "\n",
       "    .dataframe thead th {\n",
       "        text-align: right;\n",
       "    }\n",
       "</style>\n",
       "<table border=\"1\" class=\"dataframe\">\n",
       "  <thead>\n",
       "    <tr style=\"text-align: right;\">\n",
       "      <th></th>\n",
       "      <th>Date</th>\n",
       "      <th>AvgTemp</th>\n",
       "      <th>MaxTemp</th>\n",
       "      <th>MinTemp</th>\n",
       "      <th>Precip</th>\n",
       "      <th>Snowfall</th>\n",
       "      <th>SnowDepth</th>\n",
       "      <th>Unnamed: 7</th>\n",
       "    </tr>\n",
       "  </thead>\n",
       "  <tbody>\n",
       "    <tr>\n",
       "      <th>70726</th>\n",
       "      <td>11/24/2022</td>\n",
       "      <td>37.0</td>\n",
       "      <td>46.0</td>\n",
       "      <td>31.0</td>\n",
       "      <td>0.05</td>\n",
       "      <td>0.0</td>\n",
       "      <td>2.0</td>\n",
       "      <td>NaN</td>\n",
       "    </tr>\n",
       "    <tr>\n",
       "      <th>70727</th>\n",
       "      <td>11/25/2022</td>\n",
       "      <td>39.0</td>\n",
       "      <td>39.0</td>\n",
       "      <td>29.0</td>\n",
       "      <td>0.01</td>\n",
       "      <td>0.0</td>\n",
       "      <td>0.0</td>\n",
       "      <td>NaN</td>\n",
       "    </tr>\n",
       "    <tr>\n",
       "      <th>70728</th>\n",
       "      <td>11/26/2022</td>\n",
       "      <td>40.0</td>\n",
       "      <td>51.0</td>\n",
       "      <td>29.0</td>\n",
       "      <td>0.00</td>\n",
       "      <td>0.0</td>\n",
       "      <td>0.0</td>\n",
       "      <td>NaN</td>\n",
       "    </tr>\n",
       "    <tr>\n",
       "      <th>70729</th>\n",
       "      <td>11/27/2022</td>\n",
       "      <td>40.0</td>\n",
       "      <td>42.0</td>\n",
       "      <td>34.0</td>\n",
       "      <td>0.00</td>\n",
       "      <td>0.0</td>\n",
       "      <td>0.0</td>\n",
       "      <td>NaN</td>\n",
       "    </tr>\n",
       "    <tr>\n",
       "      <th>70730</th>\n",
       "      <td>11/28/2022</td>\n",
       "      <td>35.0</td>\n",
       "      <td>35.0</td>\n",
       "      <td>26.0</td>\n",
       "      <td>0.00</td>\n",
       "      <td>0.0</td>\n",
       "      <td>0.0</td>\n",
       "      <td>NaN</td>\n",
       "    </tr>\n",
       "  </tbody>\n",
       "</table>\n",
       "</div>"
      ],
      "text/plain": [
       "             Date  AvgTemp  MaxTemp  MinTemp  Precip  Snowfall  SnowDepth  \\\n",
       "70726  11/24/2022     37.0     46.0     31.0    0.05       0.0        2.0   \n",
       "70727  11/25/2022     39.0     39.0     29.0    0.01       0.0        0.0   \n",
       "70728  11/26/2022     40.0     51.0     29.0    0.00       0.0        0.0   \n",
       "70729  11/27/2022     40.0     42.0     34.0    0.00       0.0        0.0   \n",
       "70730  11/28/2022     35.0     35.0     26.0    0.00       0.0        0.0   \n",
       "\n",
       "       Unnamed: 7  \n",
       "70726         NaN  \n",
       "70727         NaN  \n",
       "70728         NaN  \n",
       "70729         NaN  \n",
       "70730         NaN  "
      ]
     },
     "execution_count": 22,
     "metadata": {},
     "output_type": "execute_result"
    }
   ],
   "source": [
    "allsnow.tail()"
   ]
  },
  {
   "cell_type": "code",
   "execution_count": 23,
   "id": "01c18721-fd94-4db1-bb8c-5a9d0cd97e6f",
   "metadata": {},
   "outputs": [],
   "source": [
    "allsnow.drop('Unnamed: 7', axis=1, inplace= True)"
   ]
  },
  {
   "cell_type": "code",
   "execution_count": 24,
   "id": "ad8cf7ce-14a6-4ae5-9686-4e777842e98b",
   "metadata": {},
   "outputs": [
    {
     "data": {
      "text/plain": [
       "(70731, 7)"
      ]
     },
     "execution_count": 24,
     "metadata": {},
     "output_type": "execute_result"
    }
   ],
   "source": [
    "allsnow.shape"
   ]
  },
  {
   "cell_type": "code",
   "execution_count": 25,
   "id": "bcbbcd8b-8a75-4ca7-bf63-5d75fb5b383d",
   "metadata": {},
   "outputs": [
    {
     "name": "stdout",
     "output_type": "stream",
     "text": [
      "<class 'pandas.core.frame.DataFrame'>\n",
      "RangeIndex: 70731 entries, 0 to 70730\n",
      "Data columns (total 7 columns):\n",
      " #   Column     Non-Null Count  Dtype  \n",
      "---  ------     --------------  -----  \n",
      " 0   Date       70731 non-null  object \n",
      " 1   AvgTemp    6130 non-null   float64\n",
      " 2   MaxTemp    67601 non-null  float64\n",
      " 3   MinTemp    67229 non-null  float64\n",
      " 4   Precip     70557 non-null  float64\n",
      " 5   Snowfall   68801 non-null  float64\n",
      " 6   SnowDepth  66675 non-null  float64\n",
      "dtypes: float64(6), object(1)\n",
      "memory usage: 3.8+ MB\n"
     ]
    }
   ],
   "source": [
    "allsnow.info()"
   ]
  },
  {
   "cell_type": "code",
   "execution_count": 26,
   "id": "2036319d-4114-4ff7-a880-275af0ac8801",
   "metadata": {},
   "outputs": [],
   "source": [
    "allsnow = allsnow.drop('AvgTemp', axis= 1)"
   ]
  },
  {
   "cell_type": "code",
   "execution_count": 27,
   "id": "9f4623f3-d52f-453b-8efe-27b77f99224d",
   "metadata": {},
   "outputs": [
    {
     "data": {
      "text/plain": [
       "Date            0\n",
       "MaxTemp      3130\n",
       "MinTemp      3502\n",
       "Precip        174\n",
       "Snowfall     1930\n",
       "SnowDepth    4056\n",
       "dtype: int64"
      ]
     },
     "execution_count": 27,
     "metadata": {},
     "output_type": "execute_result"
    }
   ],
   "source": [
    "allsnow.isnull().sum()"
   ]
  },
  {
   "cell_type": "code",
   "execution_count": null,
   "id": "dde1ad9a-aa08-4e82-be03-0935a3f77a01",
   "metadata": {},
   "outputs": [],
   "source": []
  },
  {
   "cell_type": "code",
   "execution_count": 28,
   "id": "96b0d545-04ae-4c2c-99ec-76dc058c1d48",
   "metadata": {},
   "outputs": [
    {
     "data": {
      "text/plain": [
       "Date         0\n",
       "MaxTemp      0\n",
       "MinTemp      0\n",
       "Precip       0\n",
       "Snowfall     0\n",
       "SnowDepth    0\n",
       "dtype: int64"
      ]
     },
     "execution_count": 28,
     "metadata": {},
     "output_type": "execute_result"
    }
   ],
   "source": [
    "allsnow = allsnow.dropna(axis = 0)\n",
    "allsnow.isnull().sum()"
   ]
  },
  {
   "cell_type": "code",
   "execution_count": 29,
   "id": "072c682a-465e-4b67-b0fa-b8103087152d",
   "metadata": {},
   "outputs": [
    {
     "data": {
      "text/plain": [
       "(64369, 6)"
      ]
     },
     "execution_count": 29,
     "metadata": {},
     "output_type": "execute_result"
    }
   ],
   "source": [
    "allsnow.shape"
   ]
  },
  {
   "cell_type": "code",
   "execution_count": null,
   "id": "e50648a5-e827-40c5-a503-6ed1c2cfcfca",
   "metadata": {},
   "outputs": [],
   "source": []
  },
  {
   "cell_type": "markdown",
   "id": "100b879e-8566-43b9-8794-e5dc49033890",
   "metadata": {},
   "source": [
    " From Margaret Martinez\n",
    "https://sparkbyexamples.com/pandas/pandas-filter-dataframe-rows-on-dates/\n"
   ]
  },
  {
   "cell_type": "code",
   "execution_count": null,
   "id": "a354e7e6-5495-47f5-ab0a-6fa31613dc41",
   "metadata": {},
   "outputs": [],
   "source": [
    "# df2 = df[(df['Date'] > \"2020-09-20\") & (df['Date'] < \"2021-11-17\")]\n",
    "\n",
    "# Filter by a single date\n",
    "#df2 = df[df['Date'].dt.strftime('%Y-%m-%d') == \"2021-10-08\"]\n"
   ]
  },
  {
   "cell_type": "code",
   "execution_count": 30,
   "id": "637996f1-e8e2-482f-a16d-aa2b0d84a933",
   "metadata": {},
   "outputs": [
    {
     "data": {
      "text/html": [
       "<div>\n",
       "<style scoped>\n",
       "    .dataframe tbody tr th:only-of-type {\n",
       "        vertical-align: middle;\n",
       "    }\n",
       "\n",
       "    .dataframe tbody tr th {\n",
       "        vertical-align: top;\n",
       "    }\n",
       "\n",
       "    .dataframe thead th {\n",
       "        text-align: right;\n",
       "    }\n",
       "</style>\n",
       "<table border=\"1\" class=\"dataframe\">\n",
       "  <thead>\n",
       "    <tr style=\"text-align: right;\">\n",
       "      <th></th>\n",
       "      <th>Date</th>\n",
       "      <th>MaxTemp</th>\n",
       "      <th>MinTemp</th>\n",
       "      <th>Precip</th>\n",
       "      <th>Snowfall</th>\n",
       "      <th>SnowDepth</th>\n",
       "    </tr>\n",
       "  </thead>\n",
       "  <tbody>\n",
       "    <tr>\n",
       "      <th>0</th>\n",
       "      <td>1/1/1942</td>\n",
       "      <td>27.0</td>\n",
       "      <td>6.0</td>\n",
       "      <td>0.06</td>\n",
       "      <td>1.0</td>\n",
       "      <td>5.0</td>\n",
       "    </tr>\n",
       "    <tr>\n",
       "      <th>1</th>\n",
       "      <td>1/2/1942</td>\n",
       "      <td>20.0</td>\n",
       "      <td>3.0</td>\n",
       "      <td>0.66</td>\n",
       "      <td>8.0</td>\n",
       "      <td>13.0</td>\n",
       "    </tr>\n",
       "    <tr>\n",
       "      <th>10</th>\n",
       "      <td>1/11/1942</td>\n",
       "      <td>16.0</td>\n",
       "      <td>-6.0</td>\n",
       "      <td>0.07</td>\n",
       "      <td>1.8</td>\n",
       "      <td>16.0</td>\n",
       "    </tr>\n",
       "    <tr>\n",
       "      <th>13</th>\n",
       "      <td>1/14/1942</td>\n",
       "      <td>33.0</td>\n",
       "      <td>8.0</td>\n",
       "      <td>0.02</td>\n",
       "      <td>0.5</td>\n",
       "      <td>14.0</td>\n",
       "    </tr>\n",
       "    <tr>\n",
       "      <th>14</th>\n",
       "      <td>1/15/1942</td>\n",
       "      <td>32.0</td>\n",
       "      <td>2.0</td>\n",
       "      <td>0.10</td>\n",
       "      <td>1.8</td>\n",
       "      <td>15.0</td>\n",
       "    </tr>\n",
       "  </tbody>\n",
       "</table>\n",
       "</div>"
      ],
      "text/plain": [
       "         Date  MaxTemp  MinTemp  Precip  Snowfall  SnowDepth\n",
       "0    1/1/1942     27.0      6.0    0.06       1.0        5.0\n",
       "1    1/2/1942     20.0      3.0    0.66       8.0       13.0\n",
       "10  1/11/1942     16.0     -6.0    0.07       1.8       16.0\n",
       "13  1/14/1942     33.0      8.0    0.02       0.5       14.0\n",
       "14  1/15/1942     32.0      2.0    0.10       1.8       15.0"
      ]
     },
     "execution_count": 30,
     "metadata": {},
     "output_type": "execute_result"
    }
   ],
   "source": [
    "allsnow.head()"
   ]
  },
  {
   "cell_type": "code",
   "execution_count": 31,
   "id": "60477751-94d9-41e0-9296-3a8d997ca0be",
   "metadata": {},
   "outputs": [],
   "source": [
    "Xmas = allsnow[allsnow[\"Date\"].str.contains(\"12/25/\")]\n"
   ]
  },
  {
   "cell_type": "code",
   "execution_count": 32,
   "id": "a8b38b2a-1690-44d2-8c48-10963982be9d",
   "metadata": {},
   "outputs": [
    {
     "data": {
      "text/html": [
       "<div>\n",
       "<style scoped>\n",
       "    .dataframe tbody tr th:only-of-type {\n",
       "        vertical-align: middle;\n",
       "    }\n",
       "\n",
       "    .dataframe tbody tr th {\n",
       "        vertical-align: top;\n",
       "    }\n",
       "\n",
       "    .dataframe thead th {\n",
       "        text-align: right;\n",
       "    }\n",
       "</style>\n",
       "<table border=\"1\" class=\"dataframe\">\n",
       "  <thead>\n",
       "    <tr style=\"text-align: right;\">\n",
       "      <th></th>\n",
       "      <th>Date</th>\n",
       "      <th>MaxTemp</th>\n",
       "      <th>MinTemp</th>\n",
       "      <th>Precip</th>\n",
       "      <th>Snowfall</th>\n",
       "      <th>SnowDepth</th>\n",
       "    </tr>\n",
       "  </thead>\n",
       "  <tbody>\n",
       "    <tr>\n",
       "      <th>1454</th>\n",
       "      <td>12/25/1945</td>\n",
       "      <td>25.0</td>\n",
       "      <td>18.0</td>\n",
       "      <td>0.12</td>\n",
       "      <td>1.7</td>\n",
       "      <td>8.0</td>\n",
       "    </tr>\n",
       "    <tr>\n",
       "      <th>1805</th>\n",
       "      <td>12/25/1946</td>\n",
       "      <td>20.0</td>\n",
       "      <td>13.0</td>\n",
       "      <td>0.22</td>\n",
       "      <td>4.5</td>\n",
       "      <td>9.0</td>\n",
       "    </tr>\n",
       "    <tr>\n",
       "      <th>3084</th>\n",
       "      <td>12/25/1950</td>\n",
       "      <td>11.0</td>\n",
       "      <td>-7.0</td>\n",
       "      <td>0.00</td>\n",
       "      <td>0.4</td>\n",
       "      <td>14.0</td>\n",
       "    </tr>\n",
       "    <tr>\n",
       "      <th>3449</th>\n",
       "      <td>12/25/1951</td>\n",
       "      <td>17.0</td>\n",
       "      <td>-16.0</td>\n",
       "      <td>0.00</td>\n",
       "      <td>0.0</td>\n",
       "      <td>11.0</td>\n",
       "    </tr>\n",
       "    <tr>\n",
       "      <th>3815</th>\n",
       "      <td>12/25/1952</td>\n",
       "      <td>37.0</td>\n",
       "      <td>30.0</td>\n",
       "      <td>0.05</td>\n",
       "      <td>0.8</td>\n",
       "      <td>1.0</td>\n",
       "    </tr>\n",
       "  </tbody>\n",
       "</table>\n",
       "</div>"
      ],
      "text/plain": [
       "            Date  MaxTemp  MinTemp  Precip  Snowfall  SnowDepth\n",
       "1454  12/25/1945     25.0     18.0    0.12       1.7        8.0\n",
       "1805  12/25/1946     20.0     13.0    0.22       4.5        9.0\n",
       "3084  12/25/1950     11.0     -7.0    0.00       0.4       14.0\n",
       "3449  12/25/1951     17.0    -16.0    0.00       0.0       11.0\n",
       "3815  12/25/1952     37.0     30.0    0.05       0.8        1.0"
      ]
     },
     "execution_count": 32,
     "metadata": {},
     "output_type": "execute_result"
    }
   ],
   "source": [
    "Xmas.head()"
   ]
  },
  {
   "cell_type": "code",
   "execution_count": 34,
   "id": "a15bb7b7-ac2c-4753-98db-09169456874a",
   "metadata": {},
   "outputs": [],
   "source": [
    "#saving this to CSV\n",
    "Xmas.to_csv(r\"..\\DATA\\UPNorthChristmas.csv\")"
   ]
  },
  {
   "cell_type": "markdown",
   "id": "71f1ab94-2c06-4ff5-a677-3b3dbd0d6bd7",
   "metadata": {},
   "source": [
    "## How many white Christmases have there been?  \n",
    "\n",
    "\n",
    "With some amount of snow on the ground for some six months out of the year, it's not a stretch to say there will or won't be a so-called white Christmas. I wanted to see how many times over the years there was a blanket of fresh snowfall on Christmas Day - "
   ]
  },
  {
   "cell_type": "code",
   "execution_count": null,
   "id": "1bcde07e-f9d2-4f12-b9c0-33a641f719ee",
   "metadata": {},
   "outputs": [],
   "source": [
    "Xmas.describe()"
   ]
  },
  {
   "cell_type": "code",
   "execution_count": 16,
   "id": "26ab3111-6733-4063-be86-1db3f38e7828",
   "metadata": {},
   "outputs": [
    {
     "data": {
      "text/plain": [
       "167"
      ]
     },
     "execution_count": 16,
     "metadata": {},
     "output_type": "execute_result"
    }
   ],
   "source": [
    "len(Xmas)\n",
    "#DataFrame.to_markdown()"
   ]
  },
  {
   "cell_type": "code",
   "execution_count": 18,
   "id": "41faac81-338d-4496-88d5-19ef69389076",
   "metadata": {},
   "outputs": [
    {
     "name": "stdout",
     "output_type": "stream",
     "text": [
      "             Date  MaxTemp  MinTemp  Precip  Snowfall  SnowDepth\n",
      "1454   12/25/1945     25.0     18.0    0.12       1.7        8.0\n",
      "1805   12/25/1946     20.0     13.0    0.22       4.5        9.0\n",
      "3084   12/25/1950     11.0     -7.0    0.00       0.4       14.0\n",
      "3449   12/25/1951     17.0    -16.0    0.00       0.0       11.0\n",
      "3815   12/25/1952     37.0     30.0    0.05       0.8        1.0\n",
      "4180   12/25/1953     41.0     31.0    0.00       0.0        0.0\n",
      "4545   12/25/1954     36.0     16.0    0.00       0.0        4.0\n",
      "4910   12/25/1955     36.0     19.0    0.01       0.4       13.0\n",
      "5276   12/25/1956     26.0     -1.0    0.00       0.0        9.0\n",
      "5641   12/25/1957     36.0     17.0    0.30       3.0        3.0\n",
      "6006   12/25/1958     10.0    -18.0    0.00       0.0       19.0\n",
      "6371   12/25/1959     33.0     21.0    0.03       0.6        4.0\n",
      "6737   12/25/1960     28.0     19.0    0.08       1.1        8.0\n",
      "7102   12/25/1961     32.0      2.0    0.00       0.0       12.0\n",
      "7832   12/25/1963     32.0     17.0    0.09       2.0       11.0\n",
      "8198   12/25/1964     29.0     23.0    0.00       0.0       15.0\n",
      "8563   12/25/1965     29.0      9.0    0.00       0.0        3.0\n",
      "8928   12/25/1966     18.0      9.0    0.00       0.0        4.0\n",
      "9293   12/25/1967     25.0     15.0    0.22       3.2        7.0\n",
      "10024  12/25/1969     25.0      9.0    0.06       2.0       10.0\n",
      "10389  12/25/1970     25.0     16.0    0.12       2.8       14.0\n",
      "11120  12/25/1972     25.0     16.0    0.00       0.0       13.0\n",
      "11485  12/25/1973     33.0      9.0    0.69       4.0        6.0\n",
      "11850  12/25/1974     29.0     19.0    0.04       0.4       10.0\n",
      "12215  12/25/1975     27.0     25.0    0.06       0.1        3.0\n",
      "12581  12/25/1976     27.0     19.0    0.07       1.2       16.0\n",
      "12946  12/25/1977     32.0     10.0    0.47       6.7       12.0\n",
      "13311  12/25/1978     33.0     21.0    0.03       0.4       18.0\n",
      "13676  12/25/1979     34.0     21.0    0.00       0.0        5.0\n",
      "14042  12/25/1980      5.0    -23.0    0.05       1.5       17.0\n",
      "14771  12/25/1982     39.0     34.0    0.39       0.0        0.0\n",
      "15501  12/25/1984     16.0     -1.0    0.00       0.0        4.0\n",
      "15866  12/25/1985      1.0    -20.0    0.00       0.0       18.0\n",
      "16231  12/25/1986     36.0     31.0    0.00       0.0        4.0\n",
      "16596  12/25/1987     35.0     29.0    0.09       1.1        5.0\n",
      "16962  12/25/1988     35.0     14.0    0.00       0.0        6.0\n",
      "17327  12/25/1989     20.0     12.0    0.00       0.2       14.0\n",
      "17831  12/25/1953     40.0     30.0    0.01       0.1        4.0\n",
      "18196  12/25/1954     37.0     21.0    0.00       0.0        2.0\n",
      "18561  12/25/1955     30.0     20.0    0.14       1.4       20.0\n",
      "18927  12/25/1956     21.0      5.0    0.00       0.0        5.0\n",
      "19292  12/25/1957     34.0     20.0    0.37       3.7        0.0\n",
      "20022  12/25/1959     29.0     18.0    0.00       0.0        3.0\n",
      "20388  12/25/1960     27.0     18.0    0.59       5.9       10.0\n",
      "20753  12/25/1961     27.0     12.0    0.00       0.0       17.0\n",
      "21118  12/25/1962     21.0      7.0    0.10       3.7       15.0\n",
      "21483  12/25/1963     24.0     18.0    0.09       1.7       19.0\n",
      "21849  12/25/1964     28.0     22.0    0.01       0.0       12.0\n",
      "22214  12/25/1965     20.0      6.0    0.00       0.0        3.0\n",
      "22579  12/25/1966     17.0      7.0    0.00       0.0        8.0\n",
      "23310  12/25/1968      1.0    -22.0    0.01       0.1       19.0\n",
      "23675  12/25/1969     25.0     13.0    0.04       0.3       12.0\n",
      "24040  12/25/1970     26.0     11.0    0.22       4.6       12.0\n",
      "24405  12/25/1971     31.0      1.0    0.19       4.2        5.0\n",
      "24771  12/25/1972     31.0     18.0    0.12       1.8       14.0\n",
      "25136  12/25/1973     34.0     21.0    0.98       5.5        6.0\n",
      "25501  12/25/1974     25.0     15.0    0.08       1.5       15.0\n",
      "25866  12/25/1975     27.0     22.0    0.04       0.1        5.0\n",
      "26232  12/25/1976     24.0     14.0    0.02       0.9       22.0\n",
      "26689  12/25/2002     30.0     20.0    0.00       0.0        2.0\n",
      "27054  12/25/2003     29.0     23.0    0.67       8.0       18.0\n",
      "27420  12/25/2004     10.0    -22.0    0.05       1.0       18.0\n",
      "27785  12/25/2011     33.0     21.0    0.00       0.0        1.0\n",
      "28150  12/25/2012     26.0     20.0    0.00       0.0        6.0\n",
      "28440  12/25/2013     15.0    -26.0    0.15       1.5       14.0\n",
      "28805  12/25/2014     35.0     32.0    0.11       0.0        4.0\n",
      "29170  12/25/2015     37.0     29.0    0.00       0.0        0.0\n",
      "29536  12/25/2016     37.0     13.0    0.00       0.0       10.0\n",
      "29901  12/25/2017     23.0     -2.0    0.00       0.0        8.0\n",
      "30240  12/25/2018     28.0      9.0    0.00       0.0        3.0\n",
      "30604  12/25/2019     34.0     25.0    0.00       0.0        4.0\n",
      "30970  12/25/2020     28.0     12.0    0.00       0.0        0.0\n",
      "31303  12/25/2021     39.0     31.0    0.32       0.0        0.0\n",
      "32355  12/25/1998     15.0      3.0    0.00       0.0        8.0\n",
      "32720  12/25/1999     18.0    -10.0    0.02       0.5        5.0\n",
      "33086  12/25/2000      8.0     -9.0    0.00       0.0       14.0\n",
      "33451  12/25/2001     32.0     17.0    0.10       3.0        4.0\n",
      "33816  12/25/2002     31.0     11.0    0.06       0.6        7.0\n",
      "34181  12/25/2003     25.0     19.0    0.21       4.1       13.0\n",
      "34547  12/25/2004      4.0    -18.0    0.03       0.3       16.0\n",
      "34912  12/25/2005     34.0     32.0    0.05       0.4       10.0\n",
      "35277  12/25/2006     39.0     26.0    0.00       0.0        0.0\n",
      "35642  12/25/2007     30.0     22.0    0.00       0.0        4.0\n",
      "36008  12/25/2008     28.0     18.0    0.39       5.1       18.0\n",
      "36373  12/25/2009     28.0     15.0    0.00       0.0       10.0\n",
      "36738  12/25/2010     26.0      2.0    0.00       0.0        8.0\n",
      "37103  12/25/2011     32.0     21.0    0.03       0.4        2.0\n",
      "37469  12/25/2012     27.0     20.0    0.02       0.5       10.0\n",
      "37834  12/25/2013     12.0    -17.0    0.08       1.0       14.0\n",
      "38199  12/25/2014     36.0     32.0    0.08       0.1       10.0\n",
      "38564  12/25/2015     38.0     31.0    0.00       0.0        0.0\n",
      "38930  12/25/2016     37.0     11.0    0.00       0.0       10.0\n",
      "39295  12/25/2017     22.0      3.0    0.02       0.4       10.0\n",
      "39660  12/25/2018     27.0     18.0    0.00       0.0        6.0\n",
      "40025  12/25/2019     32.0     22.0    0.00       0.0        9.0\n",
      "40391  12/25/2020     30.0     14.0    0.04       0.7        3.0\n",
      "40756  12/25/2021     37.0     31.0    0.30       0.0        8.0\n",
      "43729  12/25/1948      3.0    -10.0    0.00       0.0       10.0\n",
      "44094  12/25/1949     37.0     12.0    0.00       0.0        3.0\n",
      "44459  12/25/1950      4.0     -8.0    0.00       0.0       21.0\n",
      "44824  12/25/1951     20.0    -10.0    0.00       0.0       12.0\n",
      "45190  12/25/1952     33.0     29.0    0.06       0.6        0.0\n",
      "45555  12/25/1953     37.0     30.0    0.17       1.3        1.0\n",
      "45920  12/25/1954     36.0     15.0    0.01       0.0        3.0\n",
      "46285  12/25/1955     30.0     18.0    0.02       0.3       13.0\n",
      "46651  12/25/1956     18.0      4.0    0.00       0.0       10.0\n",
      "47016  12/25/1957     34.0     19.0    0.42       4.2        1.0\n",
      "47381  12/25/1958     13.0    -11.0    0.00       0.0       23.0\n",
      "47746  12/25/1959     32.0     20.0    0.01       0.1        4.0\n",
      "48112  12/25/1960     26.0     19.0    0.02       0.2       12.0\n",
      "48477  12/25/1961     30.0     10.0    0.01       0.1       14.0\n",
      "48842  12/25/1962     21.0     11.0    0.21       2.7        9.0\n",
      "49207  12/25/1963     27.0     16.0    0.08       2.4       13.0\n",
      "49573  12/25/1964     29.0     21.0    0.01       0.2       16.0\n",
      "49938  12/25/1965     21.0      7.0    0.00       0.0        5.0\n",
      "50303  12/25/1966     16.0      8.0    0.00       0.0        5.0\n",
      "51399  12/25/1969     21.0     10.0    0.05       1.0       10.0\n",
      "51764  12/25/1970     23.0     14.0    0.19       2.6       14.0\n",
      "52129  12/25/1971     24.0     -3.0    0.32       3.7        4.0\n",
      "52495  12/25/1972     26.0     16.0    0.22       2.4        9.0\n",
      "52860  12/25/1973     35.0     17.0    0.62       3.3        4.0\n",
      "53225  12/25/1974     23.0     11.0    0.06       1.0       16.0\n",
      "53590  12/25/1975     27.0     22.0    0.05       0.2        3.0\n",
      "53956  12/25/1976     26.0     17.0    0.07       1.7       21.0\n",
      "54321  12/25/1977     25.0      5.0    0.28       5.9       16.0\n",
      "54686  12/25/1978     27.0     18.0    0.06       1.6       21.0\n",
      "55051  12/25/1979     29.0     18.0    0.00       0.0        4.0\n",
      "55417  12/25/1980      9.0    -25.0    0.01       0.3       28.0\n",
      "55782  12/25/1981     25.0      5.0    0.02       0.3        3.0\n",
      "56147  12/25/1982     47.0     26.0    0.05       0.0        2.0\n",
      "56512  12/25/1983      9.0    -13.0    0.03       1.0       21.0\n",
      "56878  12/25/1984     12.0     -3.0    0.07       1.2       10.0\n",
      "57243  12/25/1985      2.0    -17.0    0.00       0.0       22.0\n",
      "57608  12/25/1986     34.0     32.0    0.04       0.3        6.0\n",
      "57973  12/25/1987     32.0     21.0    0.06       1.3       10.0\n",
      "58339  12/25/1988     25.0     15.0    0.11       1.9        9.0\n",
      "58704  12/25/1989     22.0     -1.0    0.24       4.3       14.0\n",
      "59069  12/25/1990     18.0      1.0    0.09       1.4        6.0\n",
      "59434  12/25/1991     24.0      2.0    0.00       0.0        8.0\n",
      "59800  12/25/1992     25.0      7.0    0.55       8.0        9.0\n",
      "60165  12/25/1993     13.0    -23.0    0.20       4.8        8.0\n",
      "60530  12/25/1994     43.0     23.0    0.00       0.0        0.0\n",
      "61261  12/25/1996     16.0     -3.0    0.05       0.4       17.0\n",
      "61626  12/25/1997     35.0     30.0    0.01       0.2        2.0\n",
      "61991  12/25/1998     27.0      3.0    0.00       0.0        8.0\n",
      "62356  12/25/1999     32.0     13.0    0.01       0.1        6.0\n",
      "62722  12/25/2000     16.0     -6.0    0.00       0.0       14.0\n",
      "63087  12/25/2001     24.0     18.0    0.08       3.0        4.0\n",
      "63452  12/25/2002     30.0     16.0    0.00       0.6        7.0\n",
      "63817  12/25/2003     26.0     21.0    0.10       4.1       13.0\n",
      "64548  12/25/2005     36.0     29.0    0.00       0.0       10.0\n",
      "64913  12/25/2006     35.0     30.0    0.01       0.1        0.0\n",
      "65278  12/25/2007     33.0     27.0    0.00       0.0        4.0\n",
      "65644  12/25/2008     26.0     15.0    0.05       1.6       18.0\n",
      "66009  12/25/2009     36.0     26.0    0.04       0.1       10.0\n",
      "66374  12/25/2010     28.0     11.0    0.00       0.0        8.0\n",
      "66739  12/25/2011     35.0     21.0    0.07       0.6        2.0\n",
      "67105  12/25/2012     26.0     19.0    0.00       0.1       10.0\n",
      "67470  12/25/2013     20.0     -2.0    0.19       2.9       14.2\n",
      "67835  12/25/2014     37.0     33.0    0.02       0.1        9.8\n",
      "68200  12/25/2015     36.0     31.0    0.00       0.0        0.0\n",
      "68566  12/25/2016     28.0     12.0    0.01       0.0        9.8\n",
      "68931  12/25/2017     20.0      3.0    0.22       3.7        9.8\n",
      "69296  12/25/2018     28.0     20.0    0.01       0.1        5.9\n",
      "69661  12/25/2019     35.0     32.0    0.00       0.0        9.1\n",
      "70027  12/25/2020     21.0     15.0    0.00       0.5        3.9\n",
      "70392  12/25/2021     39.0     31.0    0.00       0.0        7.1\n"
     ]
    }
   ],
   "source": [
    "pd.set_option('display.max_rows', None)  \n",
    "print(Xmas)\n",
    "\n",
    "#it's following the year output for each concatenated weather station dataset, starting over with the earliest year and counting up, for each dataset. \n",
    "#so which weather station gets precedence, to have its data represented for Christmas Day?  \n",
    "      "
   ]
  },
  {
   "cell_type": "code",
   "execution_count": null,
   "id": "ee2ec03a-8e3d-434a-b65e-c038e1fb0697",
   "metadata": {},
   "outputs": [],
   "source": []
  }
 ],
 "metadata": {
  "kernelspec": {
   "display_name": "Python 3 (ipykernel)",
   "language": "python",
   "name": "python3"
  },
  "language_info": {
   "codemirror_mode": {
    "name": "ipython",
    "version": 3
   },
   "file_extension": ".py",
   "mimetype": "text/x-python",
   "name": "python",
   "nbconvert_exporter": "python",
   "pygments_lexer": "ipython3",
   "version": "3.10.4"
  }
 },
 "nbformat": 4,
 "nbformat_minor": 5
}
