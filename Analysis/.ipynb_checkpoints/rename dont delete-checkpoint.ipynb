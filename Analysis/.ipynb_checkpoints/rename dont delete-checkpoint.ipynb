{
 "cells": [
  {
   "cell_type": "markdown",
   "id": "3a306cd3-a4d0-42d2-a21a-d1aa369644c1",
   "metadata": {},
   "source": [
    "# Supervised Machine Learning "
   ]
  },
  {
   "cell_type": "markdown",
   "id": "9cc4ff0c-9dac-41b2-9853-e9383231de72",
   "metadata": {},
   "source": [
    "How accurately can I create a model that can predict whether there will be snowfall Christmas Day in Sault Ste. Marie, Michigan? \n",
    "Sault Ste. Marie is located at the top of the Upper Peninsula, in Northern Michigan. Pristine lakes and waterfalls, my favorite people in the world and abundant trees make this one of my favorite places on Earth. Given it's north of the 45th parallel, it's not the warmest year-round. There can be snow on the ground for some six months of the year, lasting from late October with the last bits finally disappearing around the beginning of May. So it's not a stretch to predict if there will be snow on the ground in December - but will there be a new blanket of fresh white snow to wake up to on Christmas Day?  That may take a bit more finesse to figure out. "
   ]
  },
  {
   "cell_type": "code",
   "execution_count": 1,
   "id": "38a0804a-050a-4ff3-aba8-f38e99493e9f",
   "metadata": {},
   "outputs": [],
   "source": [
    "import pandas as pd\n",
    "from sklearn.linear_model import LinearRegression\n",
    "from sklearn.model_selection import train_test_split\n",
    "import matplotlib.pyplot as plt\n",
    "%matplotlib inline\n",
    "from sklearn import metrics\n",
    "import numpy as np"
   ]
  },
  {
   "cell_type": "markdown",
   "id": "a77d3e08-5b5a-476c-8f40-0023f7e21d8b",
   "metadata": {},
   "source": [
    "Dates can be a little tricky to format for machine learning, so initially, I'm going to see if we can predict snowfall for any given day. Then I'll narrow down the dates to just Christmas and compare the two. Speaking of dates, this dataset begins January 1, 1948 and runs to November 28, 2022.  Data was collected from Sanderson Air Field in Sault Ste. Marie and downloaded from [this link](https://www.ncei.noaa.gov/access/past-weather/49783). "
   ]
  },
  {
   "cell_type": "code",
   "execution_count": null,
   "id": "dc467842-e453-4af4-b147-d4a7934bf453",
   "metadata": {},
   "outputs": [],
   "source": []
  }
 ],
 "metadata": {
  "kernelspec": {
   "display_name": "Python 3 (ipykernel)",
   "language": "python",
   "name": "python3"
  },
  "language_info": {
   "codemirror_mode": {
    "name": "ipython",
    "version": 3
   },
   "file_extension": ".py",
   "mimetype": "text/x-python",
   "name": "python",
   "nbconvert_exporter": "python",
   "pygments_lexer": "ipython3",
   "version": "3.10.4"
  }
 },
 "nbformat": 4,
 "nbformat_minor": 5
}
